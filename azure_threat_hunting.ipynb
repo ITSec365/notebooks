{
  "cells": [
    {
      "metadata": {
        "slideshow": {
          "slide_type": "slide"
        }
      },
      "cell_type": "markdown",
      "source": "# Azure Threat Hunting"
    },
    {
      "metadata": {},
      "cell_type": "markdown",
      "source": "** by Maarten Goet, MVP & RD **"
    },
    {
      "metadata": {
        "slideshow": {
          "slide_type": "skip"
        }
      },
      "cell_type": "markdown",
      "source": "Install the Kqlmagic extension"
    },
    {
      "metadata": {
        "slideshow": {
          "slide_type": "skip"
        }
      },
      "cell_type": "markdown",
      "source": "(optional, because Azure Notebooks container has this installed by default)"
    },
    {
      "metadata": {
        "trusted": true,
        "slideshow": {
          "slide_type": "skip"
        }
      },
      "cell_type": "code",
      "source": "!pip install Kqlmagic --no-cache-dir --upgrade",
      "execution_count": null,
      "outputs": []
    },
    {
      "metadata": {
        "slideshow": {
          "slide_type": "skip"
        }
      },
      "cell_type": "markdown",
      "source": "Load the Kqlmagic extension"
    },
    {
      "metadata": {
        "trusted": true,
        "slideshow": {
          "slide_type": "slide"
        }
      },
      "cell_type": "code",
      "source": "%reload_ext Kqlmagic",
      "execution_count": null,
      "outputs": []
    },
    {
      "metadata": {
        "slideshow": {
          "slide_type": "skip"
        }
      },
      "cell_type": "markdown",
      "source": "Connect to our Log Analytics backend (in this case: Azure Security Center)"
    },
    {
      "metadata": {
        "trusted": true,
        "slideshow": {
          "slide_type": "skip"
        }
      },
      "cell_type": "code",
      "source": "%kql loganalytics://tenant='...';clientsecret='...';workspace='...';alias='...'",
      "execution_count": 6,
      "outputs": [
        {
          "output_type": "display_data",
          "data": {
            "text/plain": "<IPython.core.display.HTML object>",
            "text/html": "<!DOCTYPE html>\n            <html><body>\n\n            <button onclick=\"this.style.visibility='visible';kql_MagicLaunchWindowFunction('Kqlmagic_temp_files/_securityinsights_at_loganalytics_schema.html','fullscreen=no,directories=no,location=no,menubar=no,resizable=yes,scrollbars=yes,status=no,titlebar=no,toolbar=no,','_securityinsights_at_loganalytics_schema','')\">popup schema securityinsights@loganalytics</button>\n\n            <script>\n\n            function kql_MagicLaunchWindowFunction(file_path, window_params, window_name, notebooks_host) {\n                var url;\n                if (file_path.startsWith('http')) {\n                    url = file_path;\n                } else {\n                    var base_url = '';\n\n                    // check if azure notebook\n                    var azure_host = (notebooks_host == null || notebooks_host.length == 0) ? 'https://notebooks.azure.com' : notebooks_host;\n                    var start = azure_host.search('//');\n                    var azure_host_suffix = '.' + azure_host.substring(start+2);\n\n                    var loc = String(window.location);\n                    var end = loc.search(azure_host_suffix);\n                    start = loc.search('//');\n                    if (start > 0 && end > 0) {\n                        var parts = loc.substring(start+2, end).split('-');\n                        if (parts.length == 2) {\n                            var library = parts[0];\n                            var user = parts[1];\n                            base_url = azure_host + '/api/user/' +user+ '/library/' +library+ '/html/';\n                        }\n                    }\n\n                    // check if local jupyter lab\n                    if (base_url.length == 0) {\n                        var configDataScipt  = document.getElementById('jupyter-config-data');\n                        if (configDataScipt != null) {\n                            var jupyterConfigData = JSON.parse(configDataScipt.textContent);\n                            if (jupyterConfigData['appName'] == 'JupyterLab' && jupyterConfigData['serverRoot'] != null &&  jupyterConfigData['treeUrl'] != null) {\n                                var basePath = '/data/home/azure/notebooks' + '/';\n                                if (basePath.startsWith(jupyterConfigData['serverRoot'])) {\n                                    base_url = '/files/' + basePath.substring(jupyterConfigData['serverRoot'].length+1);\n                                }\n                            } \n                        }\n                    }\n\n                    // assume local jupyter notebook\n                    if (base_url.length == 0) {\n\n                        var parts = loc.split('/');\n                        parts.pop();\n                        base_url = parts.join('/') + '/';\n                    }\n                    url = base_url + file_path;\n                }\n\n                window.focus();\n                var w = screen.width / 2;\n                var h = screen.height / 2;\n                params = 'width='+w+',height='+h;\n                kql_Magic__securityinsights_at_loganalytics_schema = window.open(url, window_name, window_params + params);\n            }\n            </script>\n\n            </body></html>"
          },
          "metadata": {}
        },
        {
          "output_type": "display_data",
          "data": {
            "text/plain": "<IPython.core.display.Javascript object>",
            "application/javascript": "try {IPython.notebook.kernel.reconnect();} catch(err) {;}"
          },
          "metadata": {}
        }
      ]
    },
    {
      "metadata": {
        "slideshow": {
          "slide_type": "skip"
        }
      },
      "cell_type": "markdown",
      "source": "Query ASC for any network connections this VM has"
    },
    {
      "metadata": {
        "trusted": true,
        "slideshow": {
          "slide_type": "skip"
        }
      },
      "cell_type": "code",
      "source": "%kql VMConnection | where Computer == ‘APPSERVER’",
      "execution_count": null,
      "outputs": []
    },
    {
      "metadata": {
        "slideshow": {
          "slide_type": "slide"
        }
      },
      "cell_type": "markdown",
      "source": "Filter the query so that we only see connections to IP's outside of The Netherlands"
    },
    {
      "metadata": {
        "trusted": true
      },
      "cell_type": "code",
      "source": "%%kql \n    VMConnection\n    | where Computer == 'APPSERVER'\n    | where Direction == 'outbound'\n    | where RemoteCountry != 'Netherlands'",
      "execution_count": null,
      "outputs": []
    },
    {
      "metadata": {
        "slideshow": {
          "slide_type": "skip"
        }
      },
      "cell_type": "markdown",
      "source": "Put the results into a dataframe"
    },
    {
      "metadata": {
        "trusted": true,
        "slideshow": {
          "slide_type": "skip"
        }
      },
      "cell_type": "code",
      "source": "connections = _.to_dataframe()",
      "execution_count": null,
      "outputs": []
    },
    {
      "metadata": {
        "slideshow": {
          "slide_type": "slide"
        }
      },
      "cell_type": "markdown",
      "source": "Load the Pandas extensions, then import a list of TOR nodes (IP addresses) from this URL into a list called 'torlist'"
    },
    {
      "metadata": {
        "trusted": true
      },
      "cell_type": "code",
      "source": "import pandas as pd\ntorlist = pd.read_csv('https://www.dan.me.uk/torlist',header=0,names=[\"DestinationIp\"])",
      "execution_count": 11,
      "outputs": []
    },
    {
      "metadata": {},
      "cell_type": "markdown",
      "source": "Compare the KQL output to the TOR list and see if we have any match"
    },
    {
      "metadata": {
        "trusted": true
      },
      "cell_type": "code",
      "source": "connections.merge(torlist, on=‘DestinationIp’)",
      "execution_count": null,
      "outputs": []
    },
    {
      "metadata": {
        "trusted": true,
        "slideshow": {
          "slide_type": "slide"
        }
      },
      "cell_type": "markdown",
      "source": "Query ASC for locations of outbound IP's and put them into a list called 'locations'"
    },
    {
      "metadata": {
        "trusted": true
      },
      "cell_type": "code",
      "source": "%%kql locations <<\n    VMConnection\n    | where Computer == \"APPSERVER\"\n    | where Direction == \"outbound\"\n    | where RemoteCountry != \"Netherlands\"\n    | distinct RemoteLongitude, RemoteLatitude // only get unique records\n    | project RemoteLongitude, RemoteLatitude  // only show these two colums",
      "execution_count": 12,
      "outputs": []
    },
    {
      "metadata": {
        "slideshow": {
          "slide_type": "skip"
        }
      },
      "cell_type": "markdown",
      "source": "Install the Basemap extension"
    },
    {
      "metadata": {
        "trusted": true,
        "slideshow": {
          "slide_type": "skip"
        }
      },
      "cell_type": "code",
      "source": "!conda install basemap -y",
      "execution_count": null,
      "outputs": []
    },
    {
      "metadata": {
        "slideshow": {
          "slide_type": "skip"
        }
      },
      "cell_type": "markdown",
      "source": "Load Basemap to do some geographical visualizations"
    },
    {
      "metadata": {
        "trusted": true,
        "slideshow": {
          "slide_type": "skip"
        }
      },
      "cell_type": "code",
      "source": "from mpl_toolkits.basemap import Basemap\nimport matplotlib.pyplot as plt\n\nmap = Basemap()\nmap.drawcoastlines()\n\nplt.show()",
      "execution_count": null,
      "outputs": []
    },
    {
      "metadata": {
        "trusted": true
      },
      "cell_type": "code",
      "source": "",
      "execution_count": null,
      "outputs": []
    }
  ],
  "metadata": {
    "kernelspec": {
      "name": "python3",
      "display_name": "Python 3.5",
      "language": "python"
    },
    "language_info": {
      "nbconvert_exporter": "python",
      "name": "python",
      "mimetype": "text/x-python",
      "version": "3.5.5",
      "file_extension": ".py",
      "codemirror_mode": {
        "version": 3,
        "name": "ipython"
      },
      "pygments_lexer": "ipython3"
    },
    "celltoolbar": "Slideshow"
  },
  "nbformat": 4,
  "nbformat_minor": 1
}